{
  "nbformat": 4,
  "nbformat_minor": 0,
  "metadata": {
    "colab": {
      "provenance": []
    },
    "kernelspec": {
      "name": "python3",
      "display_name": "Python 3"
    },
    "language_info": {
      "name": "python"
    }
  },
  "cells": [
    {
      "cell_type": "code",
      "execution_count": null,
      "metadata": {
        "id": "bQwjmH8EoY6T"
      },
      "outputs": [],
      "source": [
        "from array import *"
      ]
    },
    {
      "cell_type": "code",
      "source": [
        "#create an array of integers\n",
        "my_arr = array('i', [1,2,3,4,5])\n",
        "#traverse through array\n",
        "for i in my_arr:\n",
        "  print(i)"
      ],
      "metadata": {
        "colab": {
          "base_uri": "https://localhost:8080/"
        },
        "id": "CIoe5aK9oeiz",
        "outputId": "8b531659-67ae-4968-d3da-0cf6cc775c43"
      },
      "execution_count": null,
      "outputs": [
        {
          "output_type": "stream",
          "name": "stdout",
          "text": [
            "1\n",
            "2\n",
            "3\n",
            "4\n",
            "5\n"
          ]
        }
      ]
    },
    {
      "cell_type": "code",
      "source": [
        "#accessing individual elements through indexes\n",
        "my_arr[3]"
      ],
      "metadata": {
        "colab": {
          "base_uri": "https://localhost:8080/"
        },
        "id": "pVJva_K6pG7A",
        "outputId": "2f95da68-9c0b-4985-830f-27e11da6872b"
      },
      "execution_count": null,
      "outputs": [
        {
          "output_type": "execute_result",
          "data": {
            "text/plain": [
              "4"
            ]
          },
          "metadata": {},
          "execution_count": 5
        }
      ]
    },
    {
      "cell_type": "code",
      "source": [
        "#append any value to array using append()\n",
        "my_arr.append(6)\n",
        "print(my_arr)"
      ],
      "metadata": {
        "colab": {
          "base_uri": "https://localhost:8080/"
        },
        "id": "15Bbv5kupdRX",
        "outputId": "1782c151-1c79-4680-a3e6-ab77ac265482"
      },
      "execution_count": null,
      "outputs": [
        {
          "output_type": "stream",
          "name": "stdout",
          "text": [
            "array('i', [1, 7, 2, 3, 4, 5, 6, 6])\n"
          ]
        }
      ]
    },
    {
      "cell_type": "code",
      "source": [
        "#insert any value to array using insert()\n",
        "my_arr.insert(1,7)\n",
        "print(my_arr)"
      ],
      "metadata": {
        "colab": {
          "base_uri": "https://localhost:8080/"
        },
        "id": "8GNu9giOp_OH",
        "outputId": "f96e5a34-4cad-440f-cba8-a0160b4588c7"
      },
      "execution_count": null,
      "outputs": [
        {
          "output_type": "stream",
          "name": "stdout",
          "text": [
            "array('i', [1, 7, 2, 3, 4, 5, 6])\n"
          ]
        }
      ]
    },
    {
      "cell_type": "code",
      "source": [
        "#extend python array using extend()\n",
        "arr2 = array('i',[9,10,11,12,13,14,15])\n",
        "my_arr.extend(arr2)\n",
        "print(my_arr)"
      ],
      "metadata": {
        "colab": {
          "base_uri": "https://localhost:8080/"
        },
        "id": "g7zw7A_WqTis",
        "outputId": "e57e07db-f692-4a60-8a64-2554622ef4ef"
      },
      "execution_count": null,
      "outputs": [
        {
          "output_type": "stream",
          "name": "stdout",
          "text": [
            "array('i', [1, 7, 2, 3, 4, 5, 6, 6, 9, 10, 11, 12, 13, 14, 15])\n"
          ]
        }
      ]
    },
    {
      "cell_type": "code",
      "source": [
        "#add items form list into array using fromlist() method\n",
        "temp = [2,20,21,22,23]\n",
        "my_arr.fromlist(temp)\n",
        "print(my_arr)"
      ],
      "metadata": {
        "colab": {
          "base_uri": "https://localhost:8080/"
        },
        "id": "4cYUbKIXq_ja",
        "outputId": "6c96d36a-e4cc-4602-daab-f478a78afcaf"
      },
      "execution_count": null,
      "outputs": [
        {
          "output_type": "stream",
          "name": "stdout",
          "text": [
            "array('i', [1, 7, 2, 3, 4, 5, 6, 6, 9, 10, 11, 12, 13, 14, 15, 2, 20, 21, 22, 23, 2, 20, 21, 22, 23, 2, 20, 21, 22, 23])\n"
          ]
        }
      ]
    },
    {
      "cell_type": "code",
      "source": [
        "#remove using remove()\n",
        "my_arr.remove(7)\n",
        "print(my_arr)"
      ],
      "metadata": {
        "colab": {
          "base_uri": "https://localhost:8080/"
        },
        "id": "YHG8rM1AryU2",
        "outputId": "45b1f08f-7778-40ed-f7d6-bccd0b10f8da"
      },
      "execution_count": null,
      "outputs": [
        {
          "output_type": "stream",
          "name": "stdout",
          "text": [
            "array('i', [1, 2, 3, 4, 5, 6, 6, 9, 10, 11, 12, 13, 14, 15, 2, 20, 21, 22, 23, 2, 20, 21, 22, 23, 2, 20, 21, 22, 23])\n"
          ]
        }
      ]
    },
    {
      "cell_type": "code",
      "source": [
        "#remove last element using pop()\n",
        "my_arr.pop()\n",
        "my_arr"
      ],
      "metadata": {
        "colab": {
          "base_uri": "https://localhost:8080/"
        },
        "id": "gHwK9jCHsOYG",
        "outputId": "09291dd7-6c70-4830-e563-14dc395102a0"
      },
      "execution_count": null,
      "outputs": [
        {
          "output_type": "execute_result",
          "data": {
            "text/plain": [
              "array('i', [1, 2, 3, 4, 5, 6, 6, 9, 10, 11, 12, 13, 14, 15, 2, 20, 21, 22, 23, 2, 20, 21, 22, 23, 2, 20, 21, 22])"
            ]
          },
          "metadata": {},
          "execution_count": 15
        }
      ]
    },
    {
      "cell_type": "code",
      "source": [
        "#fetch any element using index()\n",
        "my_arr.index(22)"
      ],
      "metadata": {
        "colab": {
          "base_uri": "https://localhost:8080/"
        },
        "id": "mJPHqy_1sYdh",
        "outputId": "19d13e8d-3bbc-46a3-a071-9040f9ba31af"
      },
      "execution_count": null,
      "outputs": [
        {
          "output_type": "execute_result",
          "data": {
            "text/plain": [
              "17"
            ]
          },
          "metadata": {},
          "execution_count": 17
        }
      ]
    },
    {
      "cell_type": "code",
      "source": [
        "#reverse pyhton array using reverse()\n",
        "my_arr.reverse()\n",
        "print(my_arr)"
      ],
      "metadata": {
        "colab": {
          "base_uri": "https://localhost:8080/"
        },
        "id": "zFKj226Isj22",
        "outputId": "bdc780f4-ec5d-45bd-b2ba-8942af9cb58e"
      },
      "execution_count": null,
      "outputs": [
        {
          "output_type": "stream",
          "name": "stdout",
          "text": [
            "array('i', [22, 21, 20, 2, 23, 22, 21, 20, 2, 23, 22, 21, 20, 2, 15, 14, 13, 12, 11, 10, 9, 6, 6, 5, 4, 3, 2, 1])\n"
          ]
        }
      ]
    },
    {
      "cell_type": "code",
      "source": [
        "#get array buffer info through buffer_info()\n",
        "#it provides you array buffer start address in the memory and no. of elements in the array\n",
        "print(my_arr.buffer_info())\n"
      ],
      "metadata": {
        "colab": {
          "base_uri": "https://localhost:8080/"
        },
        "id": "hhI1XOZUs2zr",
        "outputId": "a16b1865-b1ba-46c5-83cf-2b4a85708476"
      },
      "execution_count": null,
      "outputs": [
        {
          "output_type": "stream",
          "name": "stdout",
          "text": [
            "(140269103602624, 28)\n"
          ]
        }
      ]
    },
    {
      "cell_type": "code",
      "source": [
        "#check no. of occurances of an element in array using count()\n",
        "my_arr.count(6)"
      ],
      "metadata": {
        "colab": {
          "base_uri": "https://localhost:8080/"
        },
        "id": "K47cDiHdtnjx",
        "outputId": "97c9c93a-7da5-4ef2-90f9-4c3daed98870"
      },
      "execution_count": null,
      "outputs": [
        {
          "output_type": "execute_result",
          "data": {
            "text/plain": [
              "2"
            ]
          },
          "metadata": {},
          "execution_count": 24
        }
      ]
    },
    {
      "cell_type": "code",
      "source": [
        "#convert arrray to string using tostring()\n",
        "strtemp = my_arr.tostring()\n",
        "ints = array('i')\n",
        "ints.fromstring(strtemp)\n",
        "print(ints)"
      ],
      "metadata": {
        "id": "FIuUW4stuD1Q"
      },
      "execution_count": null,
      "outputs": []
    },
    {
      "cell_type": "code",
      "source": [
        "#converting array to list using tolist()\n",
        "print(my_arr.tolist())\n"
      ],
      "metadata": {
        "colab": {
          "base_uri": "https://localhost:8080/"
        },
        "id": "TcXyEMaGu1AF",
        "outputId": "9c13853b-379f-4c8a-ffb7-9e586d9c83d9"
      },
      "execution_count": null,
      "outputs": [
        {
          "output_type": "stream",
          "name": "stdout",
          "text": [
            "[22, 21, 20, 2, 23, 22, 21, 20, 2, 23, 22, 21, 20, 2, 15, 14, 13, 12, 11, 10, 9, 6, 6, 5, 4, 3, 2, 1]\n"
          ]
        }
      ]
    },
    {
      "cell_type": "code",
      "source": [
        "#slice elements from array\n",
        "my_arr[:4]\n"
      ],
      "metadata": {
        "colab": {
          "base_uri": "https://localhost:8080/"
        },
        "id": "2x-c4lKbwFvi",
        "outputId": "65cc3696-bc41-40cf-afb9-efbd7821de77"
      },
      "execution_count": null,
      "outputs": [
        {
          "output_type": "execute_result",
          "data": {
            "text/plain": [
              "array('i', [22, 21, 20, 2])"
            ]
          },
          "metadata": {},
          "execution_count": 30
        }
      ]
    },
    {
      "cell_type": "code",
      "source": [
        "from typing import List\n",
        "class Solution:\n",
        "    def runningSum(self, nums: List[int]) -> List[int]:\n",
        "      arr = []\n",
        "      for i in len(nums):\n",
        "        if i == 0:\n",
        "          sums = nums[i] + nums[i+1]\n",
        "        else:\n",
        "          sums = sums + nums[i+1]\n",
        "\n",
        "        arr.append(sums)\n",
        "      return arr\n"
      ],
      "metadata": {
        "id": "Z88ZLM8Gwme7"
      },
      "execution_count": null,
      "outputs": []
    },
    {
      "cell_type": "code",
      "source": [],
      "metadata": {
        "id": "GNqdMGAiL7PE"
      },
      "execution_count": null,
      "outputs": []
    }
  ]
}