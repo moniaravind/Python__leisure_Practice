{
  "nbformat": 4,
  "nbformat_minor": 0,
  "metadata": {
    "colab": {
      "provenance": []
    },
    "kernelspec": {
      "name": "python3",
      "display_name": "Python 3"
    },
    "language_info": {
      "name": "python"
    }
  },
  "cells": [
    {
      "cell_type": "code",
      "source": [
        "import random"
      ],
      "metadata": {
        "id": "CmFRsbOe8Mnr"
      },
      "execution_count": null,
      "outputs": []
    },
    {
      "cell_type": "code",
      "source": [
        "MAX_LINES = 3 #assinging that maximum no. of lines as 3\n",
        "MAX_BET = 100 #assinging that maximum bet as 100\n",
        "MIN_BET = 1 #assinging that minimum bet as 100\n",
        "#for slot machine\n",
        "ROWS = 3\n",
        "COLUMNS = 4"
      ],
      "metadata": {
        "id": "B90FqHhx5SK3"
      },
      "execution_count": null,
      "outputs": []
    },
    {
      "cell_type": "code",
      "execution_count": null,
      "metadata": {
        "id": "uMlvo8JYZDZz"
      },
      "outputs": [],
      "source": [
        "#function for colloecting user input that gets deposit from the user\n",
        "def deposit():\n",
        "  while True:\n",
        "    amount = input(\"what would you like to deposit? $\")\n",
        "    #checking if it is amount or not\n",
        "    if amount.isdigit():\n",
        "      amount = int(amount)\n",
        "      if amount > 0:\n",
        "        break\n",
        "      else:\n",
        "        print(\"amount must be greater than 0\")\n",
        "    else:\n",
        "      print(\"please, enter a number\")\n",
        "\n",
        "  return amount"
      ]
    },
    {
      "cell_type": "code",
      "source": [
        "  #collecting bet from the user\n",
        "  #how much user want to bet\n",
        "  #how many lines they want to bet on then multiply the bet amount by no. of lines"
      ],
      "metadata": {
        "id": "8Wbb8TCHc53l"
      },
      "execution_count": null,
      "outputs": []
    },
    {
      "cell_type": "code",
      "source": [
        "  #asking no. of lines\n",
        "def get_number_of_lines():\n",
        "    while True:\n",
        "      lines = input(f\"enter number of lines to bet on: (1 - {MAX_LINES})\")\n",
        "      #checking if it is amount or not\n",
        "      if lines.isdigit():\n",
        "        lines = int(lines)\n",
        "        if lines > 0 and lines <= MAX_LINES:\n",
        "          break\n",
        "        else:\n",
        "          print(\"lines must be in between 1 and 3\")\n",
        "      else:\n",
        "        print(\"please, enter a number\")\n",
        "    return lines"
      ],
      "metadata": {
        "id": "HUQXrHCZcsEz"
      },
      "execution_count": null,
      "outputs": []
    },
    {
      "cell_type": "code",
      "source": [
        "def get_bet():\n",
        "  while True:\n",
        "    bet = input(\"enter amount of bet you want to place on each line: $\")\n",
        "    #checking if it is amount or not\n",
        "    if bet.isdigit():\n",
        "      bet = int(bet)\n",
        "      if MIN_BET<= bet <= MAX_BET:\n",
        "        break\n",
        "      else:\n",
        "        print(f\"bet must be in between ${MIN_BET} and ${MAX_BET}\")\n",
        "    else:\n",
        "      print(\"please, enter a number\")\n",
        "  return bet"
      ],
      "metadata": {
        "id": "npFaeJhwymfv"
      },
      "execution_count": null,
      "outputs": []
    },
    {
      "cell_type": "code",
      "source": [
        "#symbols we will use in slot machine\n",
        "\n",
        "symbol_count = {\"A\": 2,\n",
        "                \"B\": 4,\n",
        "                \"C\": 6,\n",
        "                \"D\": 8,\n",
        "                \"E\": 10\n",
        "                }\n",
        "\n",
        "#value of each symbol\n",
        "symbol_value = {\"A\": 5,\n",
        "                \"B\": 4,\n",
        "                \"C\": 3,\n",
        "                \"D\": 2,\n",
        "                \"E\": 1\n",
        "                }"
      ],
      "metadata": {
        "id": "CDttIOnJ8kQg"
      },
      "execution_count": null,
      "outputs": []
    },
    {
      "cell_type": "code",
      "source": [
        "#spinning our slot machine\n",
        "def get_slot_machine_spin(rows, cols, symbols):\n",
        "    all_symbols = []\n",
        "    for symbol, symbol_count in symbols.items():   #gives key and value associated with the dictionary\n",
        "        for _ in range(symbol_count):\n",
        "            all_symbols.append(symbol)\n",
        "\n",
        "    columns = []\n",
        "    for _ in range(cols):\n",
        "        column = []\n",
        "        current_symbols = all_symbols[:]\n",
        "        for _ in range(rows):\n",
        "            value = random.choice(current_symbols)\n",
        "            current_symbols.remove(value)   #if we it gives a symbol, then that symbol will be removed from our symbol list we created\n",
        "            column.append(value)\n",
        "\n",
        "        columns.append(column)\n",
        "\n",
        "    return columns"
      ],
      "metadata": {
        "id": "K2-v6VqZ9aRT"
      },
      "execution_count": null,
      "outputs": []
    },
    {
      "cell_type": "code",
      "source": [
        "#printing random symbols obtained in our slot machine\n",
        "def print_slot_machine(columns):\n",
        "    for row in range(len(columns[0])):\n",
        "      #we will use enumerate which gives us the index and as well as the item\n",
        "        for i, column in enumerate(columns):    #looping through all the items in the column which gives every individual of the column\n",
        "            if i != len(columns) - 1:   #max. index of the elemet we want to access an element in columns list\n",
        "                print(column[row], end=\" | \")\n",
        "            else:\n",
        "                print(column[row], end=\"\")\n",
        "\n",
        "        print()\n"
      ],
      "metadata": {
        "id": "fOs-bzDODHtT"
      },
      "execution_count": null,
      "outputs": []
    },
    {
      "cell_type": "code",
      "source": [
        "#check our winnings\n",
        "def check_winnings(columns,lines,bet,values):\n",
        "  winnings = 0\n",
        "  winnings_lines = []\n",
        "  for line in range(lines):\n",
        "    #checking every symbol in a row is same\n",
        "    symbol = columns[0][line]\n",
        "    for column in columns:\n",
        "      symbol_to_check = column[line]\n",
        "      if symbol != symbol_to_check:\n",
        "        break\n",
        "    else:\n",
        "      winnings += values[symbol]*bet\n",
        "      winnings_lines.append(lines + 1)\n",
        "  return winnings, winnings_lines\n"
      ],
      "metadata": {
        "id": "bC1cW-gBsmKF"
      },
      "execution_count": null,
      "outputs": []
    },
    {
      "cell_type": "code",
      "source": [
        "def spin(balance):\n",
        "    lines = get_number_of_lines()\n",
        "    while True:\n",
        "        bet = get_bet()\n",
        "        total_bet = bet * lines\n",
        "\n",
        "        if total_bet > balance:\n",
        "            print(\n",
        "                f\"You do not have enough to bet that amount, your current balance is: ${balance}\")\n",
        "        else:\n",
        "            break\n",
        "\n",
        "    print(\n",
        "        f\"You are betting ${bet} on {lines} lines. Total bet is equal to: ${total_bet}\")\n",
        "\n",
        "    slots = get_slot_machine_spin(ROWS, COLUMNS, symbol_count)\n",
        "    print_slot_machine(slots)\n",
        "    winnings, winning_lines = check_winnings(slots, lines, bet, symbol_value)\n",
        "    print(f\"You won ${winnings}.\")\n",
        "    print(f\"You won on lines:\", *winning_lines)\n",
        "    return winnings - total_bet"
      ],
      "metadata": {
        "id": "NjVYtsZVw8FO"
      },
      "execution_count": null,
      "outputs": []
    },
    {
      "cell_type": "code",
      "source": [
        "\n",
        "def main():\n",
        "    balance = deposit()\n",
        "    while True:\n",
        "        print(f\"Current balance is ${balance}\")\n",
        "        answer = input(\"Press enter to play (q to quit).\")\n",
        "        if answer == \"q\":\n",
        "            break\n",
        "        balance += spin(balance)\n",
        "\n",
        "    print(f\"You left with ${balance}\")\n",
        "\n",
        "\n",
        "main()"
      ],
      "metadata": {
        "colab": {
          "base_uri": "https://localhost:8080/"
        },
        "id": "k0x8JS21bBlk",
        "outputId": "ebc03ad0-c24f-4fb8-c596-b5912c520755"
      },
      "execution_count": null,
      "outputs": [
        {
          "output_type": "stream",
          "name": "stdout",
          "text": [
            "what would you like to deposit? $500\n",
            "Current balance is $500\n",
            "Press enter to play (q to quit).\n",
            "enter number of lines to bet on: (1 - 3)2\n",
            "enter amount of bet you want to place on each line: $20\n",
            "You are betting $20 on 2 lines. Total bet is equal to: $40\n",
            "B | C | A | B\n",
            "E | C | E | B\n",
            "C | C | E | C\n",
            "You won $0.\n",
            "You won on lines:\n",
            "Current balance is $460\n",
            "Press enter to play (q to quit).Q\n",
            "enter number of lines to bet on: (1 - 3)2\n",
            "enter amount of bet you want to place on each line: $2\n",
            "You are betting $2 on 2 lines. Total bet is equal to: $4\n",
            "E | D | E | D\n",
            "D | C | D | E\n",
            "C | D | C | E\n",
            "You won $0.\n",
            "You won on lines:\n",
            "Current balance is $456\n",
            "Press enter to play (q to quit).q\n",
            "You left with $456\n"
          ]
        }
      ]
    },
    {
      "cell_type": "code",
      "source": [],
      "metadata": {
        "id": "9GeaaIZ561GD"
      },
      "execution_count": null,
      "outputs": []
    }
  ]
}